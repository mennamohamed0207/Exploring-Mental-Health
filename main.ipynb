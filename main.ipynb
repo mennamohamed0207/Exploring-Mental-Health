{
 "cells": [
  {
   "cell_type": "code",
   "execution_count": 1,
   "metadata": {},
   "outputs": [],
   "source": [
    "#imports\n",
    "import pandas as pd\n"
   ]
  },
  {
   "cell_type": "markdown",
   "metadata": {},
   "source": [
    "# Reading Dataset"
   ]
  },
  {
   "cell_type": "code",
   "execution_count": null,
   "metadata": {},
   "outputs": [
    {
     "name": "stdout",
     "output_type": "stream",
     "text": [
      "Data loaded successfully!\n"
     ]
    }
   ],
   "source": [
    "#reading data from train.csv in dataset folder \n",
    "def read_data(file_path):    \n",
    "    try:\n",
    "        df = pd.read_csv(file_path)\n",
    "        return df\n",
    "    except FileNotFoundError:\n",
    "        print(f\"Error: File not found at {file_path}\")\n",
    "        return None\n",
    "    except Exception as e:\n",
    "        print(f\"Error reading file: {str(e)}\")\n",
    "        return None"
   ]
  },
  {
   "cell_type": "code",
   "execution_count": 5,
   "metadata": {},
   "outputs": [
    {
     "name": "stdout",
     "output_type": "stream",
     "text": [
      "Data loaded successfully!\n",
      "   id      Name  Gender   Age           City Working Professional or Student  \\\n",
      "0   0  Aaradhya  Female  49.0       Ludhiana            Working Professional   \n",
      "1   1     Vivan    Male  26.0       Varanasi            Working Professional   \n",
      "2   2    Yuvraj    Male  33.0  Visakhapatnam                         Student   \n",
      "3   3    Yuvraj    Male  22.0         Mumbai            Working Professional   \n",
      "4   4      Rhea  Female  30.0         Kanpur            Working Professional   \n",
      "\n",
      "         Profession  Academic Pressure  Work Pressure  CGPA  \\\n",
      "0              Chef                NaN            5.0   NaN   \n",
      "1           Teacher                NaN            4.0   NaN   \n",
      "2               NaN                5.0            NaN  8.97   \n",
      "3           Teacher                NaN            5.0   NaN   \n",
      "4  Business Analyst                NaN            1.0   NaN   \n",
      "\n",
      "   Study Satisfaction  Job Satisfaction     Sleep Duration Dietary Habits  \\\n",
      "0                 NaN               2.0  More than 8 hours        Healthy   \n",
      "1                 NaN               3.0  Less than 5 hours      Unhealthy   \n",
      "2                 2.0               NaN          5-6 hours        Healthy   \n",
      "3                 NaN               1.0  Less than 5 hours       Moderate   \n",
      "4                 NaN               1.0          5-6 hours      Unhealthy   \n",
      "\n",
      "    Degree Have you ever had suicidal thoughts ?  Work/Study Hours  \\\n",
      "0      BHM                                    No               1.0   \n",
      "1      LLB                                   Yes               7.0   \n",
      "2  B.Pharm                                   Yes               3.0   \n",
      "3      BBA                                   Yes              10.0   \n",
      "4      BBA                                   Yes               9.0   \n",
      "\n",
      "   Financial Stress Family History of Mental Illness  Depression  \n",
      "0               2.0                               No           0  \n",
      "1               3.0                               No           1  \n",
      "2               1.0                               No           1  \n",
      "3               1.0                              Yes           1  \n",
      "4               4.0                              Yes           0  \n"
     ]
    }
   ],
   "source": [
    "# Read the training data\n",
    "train_data = read_data('dataset/train.csv')\n",
    "if train_data is not None:\n",
    "    print(\"Data loaded successfully!\")\n",
    "    print(train_data.head())"
   ]
  }
 ],
 "metadata": {
  "kernelspec": {
   "display_name": "base",
   "language": "python",
   "name": "python3"
  },
  "language_info": {
   "codemirror_mode": {
    "name": "ipython",
    "version": 3
   },
   "file_extension": ".py",
   "mimetype": "text/x-python",
   "name": "python",
   "nbconvert_exporter": "python",
   "pygments_lexer": "ipython3",
   "version": "3.11.5"
  }
 },
 "nbformat": 4,
 "nbformat_minor": 2
}
